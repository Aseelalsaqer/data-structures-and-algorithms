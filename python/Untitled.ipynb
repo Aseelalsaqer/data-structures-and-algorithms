{
 "cells": [
  {
   "cell_type": "code",
   "execution_count": 30,
   "id": "6755966e-085c-435d-a0e8-e9706e924e77",
   "metadata": {},
   "outputs": [],
   "source": [
    "def check(s):\n",
    "    if len(s)%2!=0:\n",
    "       return False\n",
    "    opening = set('[{(')\n",
    "    matching = set([('[',']'),('{','}'),('(',')')])\n",
    "    stack =[]\n",
    "    for p in s:\n",
    "        if p in opening:\n",
    "            stack.append(p)\n",
    "        else:\n",
    "            if len(stack)==0:\n",
    "                return False\n",
    "            if p in opening:\n",
    "             L = stack.pop()\n",
    "             if (L,p) not in matching :\n",
    "                return False\n",
    "    return True\n",
    "\n"
   ]
  },
  {
   "cell_type": "code",
   "execution_count": 31,
   "id": "67d51607-33ca-418a-911c-e2960a4f36f9",
   "metadata": {},
   "outputs": [
    {
     "data": {
      "text/plain": [
       "True"
      ]
     },
     "execution_count": 31,
     "metadata": {},
     "output_type": "execute_result"
    }
   ],
   "source": [
    "check('()')"
   ]
  },
  {
   "cell_type": "code",
   "execution_count": 32,
   "id": "3c951015-5594-4c51-9b9e-09e515d2bda2",
   "metadata": {},
   "outputs": [
    {
     "data": {
      "text/plain": [
       "True"
      ]
     },
     "execution_count": 32,
     "metadata": {},
     "output_type": "execute_result"
    }
   ],
   "source": [
    "check('{}(){}')"
   ]
  },
  {
   "cell_type": "code",
   "execution_count": 33,
   "id": "ca797320-1c89-4d43-80c0-8ddee9315309",
   "metadata": {},
   "outputs": [
    {
     "data": {
      "text/plain": [
       "True"
      ]
     },
     "execution_count": 33,
     "metadata": {},
     "output_type": "execute_result"
    }
   ],
   "source": [
    "check('()[[Extra Characters]]')"
   ]
  },
  {
   "cell_type": "code",
   "execution_count": 34,
   "id": "d4e6bc54-4893-43bc-9e70-91af8281ee2f",
   "metadata": {},
   "outputs": [
    {
     "data": {
      "text/plain": [
       "False"
      ]
     },
     "execution_count": 34,
     "metadata": {},
     "output_type": "execute_result"
    }
   ],
   "source": [
    "check('[({}]')"
   ]
  },
  {
   "cell_type": "code",
   "execution_count": null,
   "id": "95c30333-eac3-4170-934d-81fbabe67e90",
   "metadata": {},
   "outputs": [],
   "source": []
  }
 ],
 "metadata": {
  "kernelspec": {
   "display_name": "Python 3 (ipykernel)",
   "language": "python",
   "name": "python3"
  },
  "language_info": {
   "codemirror_mode": {
    "name": "ipython",
    "version": 3
   },
   "file_extension": ".py",
   "mimetype": "text/x-python",
   "name": "python",
   "nbconvert_exporter": "python",
   "pygments_lexer": "ipython3",
   "version": "3.9.5"
  }
 },
 "nbformat": 4,
 "nbformat_minor": 5
}
