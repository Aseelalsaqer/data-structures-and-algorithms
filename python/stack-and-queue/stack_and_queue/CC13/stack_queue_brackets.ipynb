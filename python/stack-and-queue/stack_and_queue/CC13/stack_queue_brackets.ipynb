def check(s):
    if len(s)%2!=0:
       return False
    opening = set('[{(')
    matching = set([('[',']'),('{','}'),('(',')')])
    stack =[]
    for p in s:
        if p in opening:
            stack.append(p)
        else:
            if len(stack)==0:
                return False
            L = stack.pop()
            if (L,p) not in matching:
                return False
    return len(stack)==0
check('()')
